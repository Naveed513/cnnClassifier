{
 "cells": [
  {
   "cell_type": "markdown",
   "id": "d858201e-03af-408f-b9a0-57f362fb9fdf",
   "metadata": {},
   "source": [
    "<h1>ConfigBox</h1> "
   ]
  },
  {
   "cell_type": "code",
   "execution_count": null,
   "id": "882d7428-fe45-49e1-b009-a65407e68ea3",
   "metadata": {},
   "outputs": [],
   "source": [
    "from box import ConfigBox\n",
    "\n",
    "x = {'a': 'hi', 'b':'hel', 'c':'hell', 'd':'hello'}\n",
    "\n",
    "x_configbox = ConfigBox(x)\n",
    "\n",
    "x_configbox.a"
   ]
  },
  {
   "cell_type": "code",
   "execution_count": 45,
   "id": "416cf86a-eb5d-4668-a705-6863c8ef2bd0",
   "metadata": {},
   "outputs": [
    {
     "data": {
      "text/plain": [
       "ConfigBox({'a': 'hi', 'b': 'hel', 'c': 'hell', 'd': 'hello', 'e': 'hi there'})"
      ]
     },
     "execution_count": 45,
     "metadata": {},
     "output_type": "execute_result"
    }
   ],
   "source": [
    "x_configbox.e = 'hi there'\n",
    "\n",
    "x_configbox"
   ]
  },
  {
   "cell_type": "code",
   "execution_count": null,
   "id": "eb4365a0-0777-4a0f-8196-abf006022ded",
   "metadata": {},
   "outputs": [],
   "source": []
  }
 ],
 "metadata": {
  "kernelspec": {
   "display_name": "Python 3 (ipykernel)",
   "language": "python",
   "name": "python3"
  },
  "language_info": {
   "codemirror_mode": {
    "name": "ipython",
    "version": 3
   },
   "file_extension": ".py",
   "mimetype": "text/x-python",
   "name": "python",
   "nbconvert_exporter": "python",
   "pygments_lexer": "ipython3",
   "version": "3.9.18"
  }
 },
 "nbformat": 4,
 "nbformat_minor": 5
}
